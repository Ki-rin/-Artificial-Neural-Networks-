{
    "cells": [
        {
            "cell_type": "markdown",
            "metadata": {},
            "source": "# <h1>Regression Models with Keras</h1>  \n"
        },
        {
            "cell_type": "markdown",
            "metadata": {
                "button": false,
                "new_sheet": false,
                "run_control": {
                    "read_only": false
                }
            },
            "source": "<a id=\"item31\"></a>\n"
        },
        {
            "cell_type": "markdown",
            "metadata": {
                "button": false,
                "new_sheet": false,
                "run_control": {
                    "read_only": false
                }
            },
            "source": "# Build a baseline model\n"
        },
        {
            "cell_type": "code",
            "execution_count": 17,
            "metadata": {
                "button": false,
                "new_sheet": false,
                "run_control": {
                    "read_only": false
                }
            },
            "outputs": [],
            "source": "import pandas as pd\nimport numpy as np\nimport statistics \nfrom sklearn.model_selection import train_test_split\nfrom sklearn.metrics import mean_squared_error"
        },
        {
            "cell_type": "code",
            "execution_count": 2,
            "metadata": {
                "button": false,
                "new_sheet": false,
                "run_control": {
                    "read_only": false
                }
            },
            "outputs": [
                {
                    "data": {
                        "text/html": "<div>\n<style scoped>\n    .dataframe tbody tr th:only-of-type {\n        vertical-align: middle;\n    }\n\n    .dataframe tbody tr th {\n        vertical-align: top;\n    }\n\n    .dataframe thead th {\n        text-align: right;\n    }\n</style>\n<table border=\"1\" class=\"dataframe\">\n  <thead>\n    <tr style=\"text-align: right;\">\n      <th></th>\n      <th>Cement</th>\n      <th>Blast Furnace Slag</th>\n      <th>Fly Ash</th>\n      <th>Water</th>\n      <th>Superplasticizer</th>\n      <th>Coarse Aggregate</th>\n      <th>Fine Aggregate</th>\n      <th>Age</th>\n      <th>Strength</th>\n    </tr>\n  </thead>\n  <tbody>\n    <tr>\n      <th>0</th>\n      <td>540.0</td>\n      <td>0.0</td>\n      <td>0.0</td>\n      <td>162.0</td>\n      <td>2.5</td>\n      <td>1040.0</td>\n      <td>676.0</td>\n      <td>28</td>\n      <td>79.99</td>\n    </tr>\n    <tr>\n      <th>1</th>\n      <td>540.0</td>\n      <td>0.0</td>\n      <td>0.0</td>\n      <td>162.0</td>\n      <td>2.5</td>\n      <td>1055.0</td>\n      <td>676.0</td>\n      <td>28</td>\n      <td>61.89</td>\n    </tr>\n    <tr>\n      <th>2</th>\n      <td>332.5</td>\n      <td>142.5</td>\n      <td>0.0</td>\n      <td>228.0</td>\n      <td>0.0</td>\n      <td>932.0</td>\n      <td>594.0</td>\n      <td>270</td>\n      <td>40.27</td>\n    </tr>\n    <tr>\n      <th>3</th>\n      <td>332.5</td>\n      <td>142.5</td>\n      <td>0.0</td>\n      <td>228.0</td>\n      <td>0.0</td>\n      <td>932.0</td>\n      <td>594.0</td>\n      <td>365</td>\n      <td>41.05</td>\n    </tr>\n    <tr>\n      <th>4</th>\n      <td>198.6</td>\n      <td>132.4</td>\n      <td>0.0</td>\n      <td>192.0</td>\n      <td>0.0</td>\n      <td>978.4</td>\n      <td>825.5</td>\n      <td>360</td>\n      <td>44.30</td>\n    </tr>\n  </tbody>\n</table>\n</div>",
                        "text/plain": "   Cement  Blast Furnace Slag  Fly Ash  Water  Superplasticizer  \\\n0   540.0                 0.0      0.0  162.0               2.5   \n1   540.0                 0.0      0.0  162.0               2.5   \n2   332.5               142.5      0.0  228.0               0.0   \n3   332.5               142.5      0.0  228.0               0.0   \n4   198.6               132.4      0.0  192.0               0.0   \n\n   Coarse Aggregate  Fine Aggregate  Age  Strength  \n0            1040.0           676.0   28     79.99  \n1            1055.0           676.0   28     61.89  \n2             932.0           594.0  270     40.27  \n3             932.0           594.0  365     41.05  \n4             978.4           825.5  360     44.30  "
                    },
                    "execution_count": 2,
                    "metadata": {},
                    "output_type": "execute_result"
                }
            ],
            "source": "concrete_data = pd.read_csv('https://s3-api.us-geo.objectstorage.softlayer.net/cf-courses-data/CognitiveClass/DL0101EN/labs/data/concrete_data.csv')\nconcrete_data.head()"
        },
        {
            "cell_type": "markdown",
            "metadata": {
                "button": false,
                "new_sheet": false,
                "run_control": {
                    "read_only": false
                }
            },
            "source": "#### Split data into predictors and target\n"
        },
        {
            "cell_type": "markdown",
            "metadata": {},
            "source": "The target variable in this problem is the concrete sample strength. Therefore, our predictors will be all the other columns.\n"
        },
        {
            "cell_type": "code",
            "execution_count": 3,
            "metadata": {
                "button": false,
                "new_sheet": false,
                "run_control": {
                    "read_only": false
                }
            },
            "outputs": [],
            "source": "concrete_data_columns = concrete_data.columns\n\npredictors = concrete_data[concrete_data_columns[concrete_data_columns != 'Strength']] # all columns except Strength\ntarget = concrete_data['Strength'] # Strength column"
        },
        {
            "cell_type": "markdown",
            "metadata": {
                "button": false,
                "new_sheet": false,
                "run_control": {
                    "read_only": false
                }
            },
            "source": "<a id=\"item2\"></a>\n"
        },
        {
            "cell_type": "markdown",
            "metadata": {
                "button": false,
                "new_sheet": false,
                "run_control": {
                    "read_only": false
                }
            },
            "source": "Let's do a quick sanity check of the predictors and the target dataframes.\n"
        },
        {
            "cell_type": "code",
            "execution_count": 4,
            "metadata": {
                "button": false,
                "new_sheet": false,
                "run_control": {
                    "read_only": false
                }
            },
            "outputs": [
                {
                    "data": {
                        "text/html": "<div>\n<style scoped>\n    .dataframe tbody tr th:only-of-type {\n        vertical-align: middle;\n    }\n\n    .dataframe tbody tr th {\n        vertical-align: top;\n    }\n\n    .dataframe thead th {\n        text-align: right;\n    }\n</style>\n<table border=\"1\" class=\"dataframe\">\n  <thead>\n    <tr style=\"text-align: right;\">\n      <th></th>\n      <th>Cement</th>\n      <th>Blast Furnace Slag</th>\n      <th>Fly Ash</th>\n      <th>Water</th>\n      <th>Superplasticizer</th>\n      <th>Coarse Aggregate</th>\n      <th>Fine Aggregate</th>\n      <th>Age</th>\n    </tr>\n  </thead>\n  <tbody>\n    <tr>\n      <th>0</th>\n      <td>540.0</td>\n      <td>0.0</td>\n      <td>0.0</td>\n      <td>162.0</td>\n      <td>2.5</td>\n      <td>1040.0</td>\n      <td>676.0</td>\n      <td>28</td>\n    </tr>\n    <tr>\n      <th>1</th>\n      <td>540.0</td>\n      <td>0.0</td>\n      <td>0.0</td>\n      <td>162.0</td>\n      <td>2.5</td>\n      <td>1055.0</td>\n      <td>676.0</td>\n      <td>28</td>\n    </tr>\n    <tr>\n      <th>2</th>\n      <td>332.5</td>\n      <td>142.5</td>\n      <td>0.0</td>\n      <td>228.0</td>\n      <td>0.0</td>\n      <td>932.0</td>\n      <td>594.0</td>\n      <td>270</td>\n    </tr>\n    <tr>\n      <th>3</th>\n      <td>332.5</td>\n      <td>142.5</td>\n      <td>0.0</td>\n      <td>228.0</td>\n      <td>0.0</td>\n      <td>932.0</td>\n      <td>594.0</td>\n      <td>365</td>\n    </tr>\n    <tr>\n      <th>4</th>\n      <td>198.6</td>\n      <td>132.4</td>\n      <td>0.0</td>\n      <td>192.0</td>\n      <td>0.0</td>\n      <td>978.4</td>\n      <td>825.5</td>\n      <td>360</td>\n    </tr>\n  </tbody>\n</table>\n</div>",
                        "text/plain": "   Cement  Blast Furnace Slag  Fly Ash  Water  Superplasticizer  \\\n0   540.0                 0.0      0.0  162.0               2.5   \n1   540.0                 0.0      0.0  162.0               2.5   \n2   332.5               142.5      0.0  228.0               0.0   \n3   332.5               142.5      0.0  228.0               0.0   \n4   198.6               132.4      0.0  192.0               0.0   \n\n   Coarse Aggregate  Fine Aggregate  Age  \n0            1040.0           676.0   28  \n1            1055.0           676.0   28  \n2             932.0           594.0  270  \n3             932.0           594.0  365  \n4             978.4           825.5  360  "
                    },
                    "execution_count": 4,
                    "metadata": {},
                    "output_type": "execute_result"
                }
            ],
            "source": "predictors.head()"
        },
        {
            "cell_type": "code",
            "execution_count": 5,
            "metadata": {
                "button": false,
                "new_sheet": false,
                "run_control": {
                    "read_only": false
                }
            },
            "outputs": [
                {
                    "data": {
                        "text/plain": "0    79.99\n1    61.89\n2    40.27\n3    41.05\n4    44.30\nName: Strength, dtype: float64"
                    },
                    "execution_count": 5,
                    "metadata": {},
                    "output_type": "execute_result"
                }
            ],
            "source": "target.head()"
        },
        {
            "cell_type": "markdown",
            "metadata": {},
            "source": "Let's save the number of predictors to _n_cols_ since we will need this number when building our network.\n"
        },
        {
            "cell_type": "code",
            "execution_count": 6,
            "metadata": {
                "button": false,
                "new_sheet": false,
                "run_control": {
                    "read_only": false
                }
            },
            "outputs": [],
            "source": "n_cols = predictors.shape[1] # number of predictors"
        },
        {
            "cell_type": "markdown",
            "metadata": {
                "button": false,
                "new_sheet": false,
                "run_control": {
                    "read_only": false
                }
            },
            "source": "<a id=\"item1\"></a>\n"
        },
        {
            "cell_type": "markdown",
            "metadata": {
                "button": false,
                "new_sheet": false,
                "run_control": {
                    "read_only": false
                }
            },
            "source": "#### import the Keras library\n"
        },
        {
            "cell_type": "code",
            "execution_count": 7,
            "metadata": {
                "button": false,
                "new_sheet": false,
                "run_control": {
                    "read_only": false
                }
            },
            "outputs": [
                {
                    "name": "stdout",
                    "output_type": "stream",
                    "text": "Requirement already satisfied: pip in /opt/conda/envs/Python-3.7-main/lib/python3.7/site-packages (20.3.3)\nRequirement already satisfied: tensorflow-gpu==2.4.0 in /opt/conda/envs/Python-3.7-main/lib/python3.7/site-packages (2.4.0)\nRequirement already satisfied: flatbuffers~=1.12.0 in /opt/conda/envs/Python-3.7-main/lib/python3.7/site-packages (from tensorflow-gpu==2.4.0) (1.12)\nRequirement already satisfied: opt-einsum~=3.3.0 in /opt/conda/envs/Python-3.7-main/lib/python3.7/site-packages (from tensorflow-gpu==2.4.0) (3.3.0)\nRequirement already satisfied: gast==0.3.3 in /opt/conda/envs/Python-3.7-main/lib/python3.7/site-packages (from tensorflow-gpu==2.4.0) (0.3.3)\nRequirement already satisfied: six~=1.15.0 in /opt/conda/envs/Python-3.7-main/lib/python3.7/site-packages (from tensorflow-gpu==2.4.0) (1.15.0)\nRequirement already satisfied: wrapt~=1.12.1 in /opt/conda/envs/Python-3.7-main/lib/python3.7/site-packages (from tensorflow-gpu==2.4.0) (1.12.1)\nRequirement already satisfied: wheel~=0.35 in /opt/conda/envs/Python-3.7-main/lib/python3.7/site-packages (from tensorflow-gpu==2.4.0) (0.36.2)\nRequirement already satisfied: absl-py~=0.10 in /opt/conda/envs/Python-3.7-main/lib/python3.7/site-packages (from tensorflow-gpu==2.4.0) (0.11.0)\nRequirement already satisfied: numpy~=1.19.2 in /opt/conda/envs/Python-3.7-main/lib/python3.7/site-packages (from tensorflow-gpu==2.4.0) (1.19.4)\nRequirement already satisfied: grpcio~=1.32.0 in /opt/conda/envs/Python-3.7-main/lib/python3.7/site-packages (from tensorflow-gpu==2.4.0) (1.32.0)\nRequirement already satisfied: tensorboard~=2.4 in /opt/conda/envs/Python-3.7-main/lib/python3.7/site-packages (from tensorflow-gpu==2.4.0) (2.4.0)\nRequirement already satisfied: protobuf>=3.9.2 in /opt/conda/envs/Python-3.7-main/lib/python3.7/site-packages (from tensorflow-gpu==2.4.0) (3.12.3)\nRequirement already satisfied: termcolor~=1.1.0 in /opt/conda/envs/Python-3.7-main/lib/python3.7/site-packages (from tensorflow-gpu==2.4.0) (1.1.0)\nRequirement already satisfied: tensorflow-estimator<2.5.0,>=2.4.0rc0 in /opt/conda/envs/Python-3.7-main/lib/python3.7/site-packages (from tensorflow-gpu==2.4.0) (2.4.0)\nRequirement already satisfied: typing-extensions~=3.7.4 in /opt/conda/envs/Python-3.7-main/lib/python3.7/site-packages (from tensorflow-gpu==2.4.0) (3.7.4.2)\nRequirement already satisfied: google-pasta~=0.2 in /opt/conda/envs/Python-3.7-main/lib/python3.7/site-packages (from tensorflow-gpu==2.4.0) (0.2.0)\nRequirement already satisfied: astunparse~=1.6.3 in /opt/conda/envs/Python-3.7-main/lib/python3.7/site-packages (from tensorflow-gpu==2.4.0) (1.6.3)\nRequirement already satisfied: h5py~=2.10.0 in /opt/conda/envs/Python-3.7-main/lib/python3.7/site-packages (from tensorflow-gpu==2.4.0) (2.10.0)\nRequirement already satisfied: keras-preprocessing~=1.1.2 in /opt/conda/envs/Python-3.7-main/lib/python3.7/site-packages (from tensorflow-gpu==2.4.0) (1.1.2)\nRequirement already satisfied: setuptools in /opt/conda/envs/Python-3.7-main/lib/python3.7/site-packages (from protobuf>=3.9.2->tensorflow-gpu==2.4.0) (47.3.1.post20200622)\nRequirement already satisfied: tensorboard-plugin-wit>=1.6.0 in /opt/conda/envs/Python-3.7-main/lib/python3.7/site-packages (from tensorboard~=2.4->tensorflow-gpu==2.4.0) (1.7.0)\nRequirement already satisfied: werkzeug>=0.11.15 in /opt/conda/envs/Python-3.7-main/lib/python3.7/site-packages (from tensorboard~=2.4->tensorflow-gpu==2.4.0) (1.0.1)\nRequirement already satisfied: google-auth-oauthlib<0.5,>=0.4.1 in /opt/conda/envs/Python-3.7-main/lib/python3.7/site-packages (from tensorboard~=2.4->tensorflow-gpu==2.4.0) (0.4.1)\nRequirement already satisfied: requests<3,>=2.21.0 in /opt/conda/envs/Python-3.7-main/lib/python3.7/site-packages (from tensorboard~=2.4->tensorflow-gpu==2.4.0) (2.24.0)\nRequirement already satisfied: markdown>=2.6.8 in /opt/conda/envs/Python-3.7-main/lib/python3.7/site-packages (from tensorboard~=2.4->tensorflow-gpu==2.4.0) (3.1.1)\nRequirement already satisfied: google-auth<2,>=1.6.3 in /opt/conda/envs/Python-3.7-main/lib/python3.7/site-packages (from tensorboard~=2.4->tensorflow-gpu==2.4.0) (1.22.0)\nRequirement already satisfied: aiohttp<4.0.0dev,>=3.6.2 in /opt/conda/envs/Python-3.7-main/lib/python3.7/site-packages (from google-auth<2,>=1.6.3->tensorboard~=2.4->tensorflow-gpu==2.4.0) (3.6.2)\nRequirement already satisfied: pyasn1-modules>=0.2.1 in /opt/conda/envs/Python-3.7-main/lib/python3.7/site-packages (from google-auth<2,>=1.6.3->tensorboard~=2.4->tensorflow-gpu==2.4.0) (0.2.8)\nRequirement already satisfied: cachetools<5.0,>=2.0.0 in /opt/conda/envs/Python-3.7-main/lib/python3.7/site-packages (from google-auth<2,>=1.6.3->tensorboard~=2.4->tensorflow-gpu==2.4.0) (4.1.1)\nRequirement already satisfied: rsa<5,>=3.1.4 in /opt/conda/envs/Python-3.7-main/lib/python3.7/site-packages (from google-auth<2,>=1.6.3->tensorboard~=2.4->tensorflow-gpu==2.4.0) (4.6)\nRequirement already satisfied: chardet<4.0,>=2.0 in /opt/conda/envs/Python-3.7-main/lib/python3.7/site-packages (from aiohttp<4.0.0dev,>=3.6.2->google-auth<2,>=1.6.3->tensorboard~=2.4->tensorflow-gpu==2.4.0) (3.0.4)\nRequirement already satisfied: async-timeout<4.0,>=3.0 in /opt/conda/envs/Python-3.7-main/lib/python3.7/site-packages (from aiohttp<4.0.0dev,>=3.6.2->google-auth<2,>=1.6.3->tensorboard~=2.4->tensorflow-gpu==2.4.0) (3.0.1)\nRequirement already satisfied: attrs>=17.3.0 in /opt/conda/envs/Python-3.7-main/lib/python3.7/site-packages (from aiohttp<4.0.0dev,>=3.6.2->google-auth<2,>=1.6.3->tensorboard~=2.4->tensorflow-gpu==2.4.0) (19.3.0)\nRequirement already satisfied: yarl<2.0,>=1.0 in /opt/conda/envs/Python-3.7-main/lib/python3.7/site-packages (from aiohttp<4.0.0dev,>=3.6.2->google-auth<2,>=1.6.3->tensorboard~=2.4->tensorflow-gpu==2.4.0) (1.5.1)\nRequirement already satisfied: multidict<5.0,>=4.5 in /opt/conda/envs/Python-3.7-main/lib/python3.7/site-packages (from aiohttp<4.0.0dev,>=3.6.2->google-auth<2,>=1.6.3->tensorboard~=2.4->tensorflow-gpu==2.4.0) (4.7.6)\nRequirement already satisfied: requests-oauthlib>=0.7.0 in /opt/conda/envs/Python-3.7-main/lib/python3.7/site-packages (from google-auth-oauthlib<0.5,>=0.4.1->tensorboard~=2.4->tensorflow-gpu==2.4.0) (1.3.0)\nRequirement already satisfied: pyasn1<0.5.0,>=0.4.6 in /opt/conda/envs/Python-3.7-main/lib/python3.7/site-packages (from pyasn1-modules>=0.2.1->google-auth<2,>=1.6.3->tensorboard~=2.4->tensorflow-gpu==2.4.0) (0.4.8)\nRequirement already satisfied: idna<3,>=2.5 in /opt/conda/envs/Python-3.7-main/lib/python3.7/site-packages (from requests<3,>=2.21.0->tensorboard~=2.4->tensorflow-gpu==2.4.0) (2.9)\nRequirement already satisfied: certifi>=2017.4.17 in /opt/conda/envs/Python-3.7-main/lib/python3.7/site-packages (from requests<3,>=2.21.0->tensorboard~=2.4->tensorflow-gpu==2.4.0) (2020.12.5)\nRequirement already satisfied: urllib3!=1.25.0,!=1.25.1,<1.26,>=1.21.1 in /opt/conda/envs/Python-3.7-main/lib/python3.7/site-packages (from requests<3,>=2.21.0->tensorboard~=2.4->tensorflow-gpu==2.4.0) (1.25.9)\nRequirement already satisfied: oauthlib>=3.0.0 in /opt/conda/envs/Python-3.7-main/lib/python3.7/site-packages (from requests-oauthlib>=0.7.0->google-auth-oauthlib<0.5,>=0.4.1->tensorboard~=2.4->tensorflow-gpu==2.4.0) (3.1.0)\nRequirement already satisfied: tensorflow in /opt/conda/envs/Python-3.7-main/lib/python3.7/site-packages (2.4.0)\nRequirement already satisfied: opt-einsum~=3.3.0 in /opt/conda/envs/Python-3.7-main/lib/python3.7/site-packages (from tensorflow) (3.3.0)\nRequirement already satisfied: six~=1.15.0 in /opt/conda/envs/Python-3.7-main/lib/python3.7/site-packages (from tensorflow) (1.15.0)\nRequirement already satisfied: absl-py~=0.10 in /opt/conda/envs/Python-3.7-main/lib/python3.7/site-packages (from tensorflow) (0.11.0)\nRequirement already satisfied: astunparse~=1.6.3 in /opt/conda/envs/Python-3.7-main/lib/python3.7/site-packages (from tensorflow) (1.6.3)\nRequirement already satisfied: protobuf>=3.9.2 in /opt/conda/envs/Python-3.7-main/lib/python3.7/site-packages (from tensorflow) (3.12.3)\nRequirement already satisfied: wheel~=0.35 in /opt/conda/envs/Python-3.7-main/lib/python3.7/site-packages (from tensorflow) (0.36.2)\nRequirement already satisfied: gast==0.3.3 in /opt/conda/envs/Python-3.7-main/lib/python3.7/site-packages (from tensorflow) (0.3.3)\nRequirement already satisfied: typing-extensions~=3.7.4 in /opt/conda/envs/Python-3.7-main/lib/python3.7/site-packages (from tensorflow) (3.7.4.2)\nRequirement already satisfied: google-pasta~=0.2 in /opt/conda/envs/Python-3.7-main/lib/python3.7/site-packages (from tensorflow) (0.2.0)\nRequirement already satisfied: tensorflow-estimator<2.5.0,>=2.4.0rc0 in /opt/conda/envs/Python-3.7-main/lib/python3.7/site-packages (from tensorflow) (2.4.0)\nRequirement already satisfied: numpy~=1.19.2 in /opt/conda/envs/Python-3.7-main/lib/python3.7/site-packages (from tensorflow) (1.19.4)\nRequirement already satisfied: grpcio~=1.32.0 in /opt/conda/envs/Python-3.7-main/lib/python3.7/site-packages (from tensorflow) (1.32.0)\nRequirement already satisfied: tensorboard~=2.4 in /opt/conda/envs/Python-3.7-main/lib/python3.7/site-packages (from tensorflow) (2.4.0)\nRequirement already satisfied: h5py~=2.10.0 in /opt/conda/envs/Python-3.7-main/lib/python3.7/site-packages (from tensorflow) (2.10.0)\nRequirement already satisfied: keras-preprocessing~=1.1.2 in /opt/conda/envs/Python-3.7-main/lib/python3.7/site-packages (from tensorflow) (1.1.2)\nRequirement already satisfied: flatbuffers~=1.12.0 in /opt/conda/envs/Python-3.7-main/lib/python3.7/site-packages (from tensorflow) (1.12)\nRequirement already satisfied: termcolor~=1.1.0 in /opt/conda/envs/Python-3.7-main/lib/python3.7/site-packages (from tensorflow) (1.1.0)\nRequirement already satisfied: wrapt~=1.12.1 in /opt/conda/envs/Python-3.7-main/lib/python3.7/site-packages (from tensorflow) (1.12.1)\nRequirement already satisfied: setuptools in /opt/conda/envs/Python-3.7-main/lib/python3.7/site-packages (from protobuf>=3.9.2->tensorflow) (47.3.1.post20200622)\nRequirement already satisfied: requests<3,>=2.21.0 in /opt/conda/envs/Python-3.7-main/lib/python3.7/site-packages (from tensorboard~=2.4->tensorflow) (2.24.0)\nRequirement already satisfied: tensorboard-plugin-wit>=1.6.0 in /opt/conda/envs/Python-3.7-main/lib/python3.7/site-packages (from tensorboard~=2.4->tensorflow) (1.7.0)\nRequirement already satisfied: google-auth-oauthlib<0.5,>=0.4.1 in /opt/conda/envs/Python-3.7-main/lib/python3.7/site-packages (from tensorboard~=2.4->tensorflow) (0.4.1)\nRequirement already satisfied: google-auth<2,>=1.6.3 in /opt/conda/envs/Python-3.7-main/lib/python3.7/site-packages (from tensorboard~=2.4->tensorflow) (1.22.0)\nRequirement already satisfied: werkzeug>=0.11.15 in /opt/conda/envs/Python-3.7-main/lib/python3.7/site-packages (from tensorboard~=2.4->tensorflow) (1.0.1)\nRequirement already satisfied: markdown>=2.6.8 in /opt/conda/envs/Python-3.7-main/lib/python3.7/site-packages (from tensorboard~=2.4->tensorflow) (3.1.1)\nRequirement already satisfied: aiohttp<4.0.0dev,>=3.6.2 in /opt/conda/envs/Python-3.7-main/lib/python3.7/site-packages (from google-auth<2,>=1.6.3->tensorboard~=2.4->tensorflow) (3.6.2)\nRequirement already satisfied: cachetools<5.0,>=2.0.0 in /opt/conda/envs/Python-3.7-main/lib/python3.7/site-packages (from google-auth<2,>=1.6.3->tensorboard~=2.4->tensorflow) (4.1.1)\nRequirement already satisfied: pyasn1-modules>=0.2.1 in /opt/conda/envs/Python-3.7-main/lib/python3.7/site-packages (from google-auth<2,>=1.6.3->tensorboard~=2.4->tensorflow) (0.2.8)\nRequirement already satisfied: rsa<5,>=3.1.4 in /opt/conda/envs/Python-3.7-main/lib/python3.7/site-packages (from google-auth<2,>=1.6.3->tensorboard~=2.4->tensorflow) (4.6)\nRequirement already satisfied: async-timeout<4.0,>=3.0 in /opt/conda/envs/Python-3.7-main/lib/python3.7/site-packages (from aiohttp<4.0.0dev,>=3.6.2->google-auth<2,>=1.6.3->tensorboard~=2.4->tensorflow) (3.0.1)\nRequirement already satisfied: multidict<5.0,>=4.5 in /opt/conda/envs/Python-3.7-main/lib/python3.7/site-packages (from aiohttp<4.0.0dev,>=3.6.2->google-auth<2,>=1.6.3->tensorboard~=2.4->tensorflow) (4.7.6)\nRequirement already satisfied: yarl<2.0,>=1.0 in /opt/conda/envs/Python-3.7-main/lib/python3.7/site-packages (from aiohttp<4.0.0dev,>=3.6.2->google-auth<2,>=1.6.3->tensorboard~=2.4->tensorflow) (1.5.1)\nRequirement already satisfied: attrs>=17.3.0 in /opt/conda/envs/Python-3.7-main/lib/python3.7/site-packages (from aiohttp<4.0.0dev,>=3.6.2->google-auth<2,>=1.6.3->tensorboard~=2.4->tensorflow) (19.3.0)\nRequirement already satisfied: chardet<4.0,>=2.0 in /opt/conda/envs/Python-3.7-main/lib/python3.7/site-packages (from aiohttp<4.0.0dev,>=3.6.2->google-auth<2,>=1.6.3->tensorboard~=2.4->tensorflow) (3.0.4)\nRequirement already satisfied: requests-oauthlib>=0.7.0 in /opt/conda/envs/Python-3.7-main/lib/python3.7/site-packages (from google-auth-oauthlib<0.5,>=0.4.1->tensorboard~=2.4->tensorflow) (1.3.0)\nRequirement already satisfied: pyasn1<0.5.0,>=0.4.6 in /opt/conda/envs/Python-3.7-main/lib/python3.7/site-packages (from pyasn1-modules>=0.2.1->google-auth<2,>=1.6.3->tensorboard~=2.4->tensorflow) (0.4.8)\nRequirement already satisfied: urllib3!=1.25.0,!=1.25.1,<1.26,>=1.21.1 in /opt/conda/envs/Python-3.7-main/lib/python3.7/site-packages (from requests<3,>=2.21.0->tensorboard~=2.4->tensorflow) (1.25.9)\nRequirement already satisfied: idna<3,>=2.5 in /opt/conda/envs/Python-3.7-main/lib/python3.7/site-packages (from requests<3,>=2.21.0->tensorboard~=2.4->tensorflow) (2.9)\nRequirement already satisfied: certifi>=2017.4.17 in /opt/conda/envs/Python-3.7-main/lib/python3.7/site-packages (from requests<3,>=2.21.0->tensorboard~=2.4->tensorflow) (2020.12.5)\nRequirement already satisfied: oauthlib>=3.0.0 in /opt/conda/envs/Python-3.7-main/lib/python3.7/site-packages (from requests-oauthlib>=0.7.0->google-auth-oauthlib<0.5,>=0.4.1->tensorboard~=2.4->tensorflow) (3.1.0)\n\nUsage:   \n  pip install [options] <requirement specifier> [package-index-options] ...\n  pip install [options] -r <requirements file> [package-index-options] ...\n  pip install [options] [-e] <vcs project url> ...\n  pip install [options] [-e] <local project path> ...\n  pip install [options] <archive url/path> ...\n\nno such option: --strict-channel-priority\nRequirement already satisfied: keras in /opt/conda/envs/Python-3.7-main/lib/python3.7/site-packages (2.4.3)\nRequirement already satisfied: scipy>=0.14 in /opt/conda/envs/Python-3.7-main/lib/python3.7/site-packages (from keras) (1.5.0)\nRequirement already satisfied: h5py in /opt/conda/envs/Python-3.7-main/lib/python3.7/site-packages (from keras) (2.10.0)\nRequirement already satisfied: pyyaml in /opt/conda/envs/Python-3.7-main/lib/python3.7/site-packages (from keras) (5.3.1)\nRequirement already satisfied: numpy>=1.9.1 in /opt/conda/envs/Python-3.7-main/lib/python3.7/site-packages (from keras) (1.19.4)\nRequirement already satisfied: six in /opt/conda/envs/Python-3.7-main/lib/python3.7/site-packages (from h5py->keras) (1.15.0)\n"
                }
            ],
            "source": "! pip install --upgrade pip\n! pip install tensorflow-gpu==2.4.0\n! pip install --upgrade tensorflow\n! pip install --strict-channel-priority tensorflow\n! pip install keras\n"
        },
        {
            "cell_type": "markdown",
            "metadata": {
                "button": false,
                "new_sheet": false,
                "run_control": {
                    "read_only": false
                }
            },
            "source": "Let's import the rest of the packages from the Keras library that we will need to build our regressoin model.\n"
        },
        {
            "cell_type": "code",
            "execution_count": 8,
            "metadata": {
                "button": false,
                "new_sheet": false,
                "run_control": {
                    "read_only": false
                }
            },
            "outputs": [],
            "source": "from keras.models import Sequential\nfrom keras.layers import Dense"
        },
        {
            "cell_type": "markdown",
            "metadata": {},
            "source": "<a id='item33'></a>\n"
        },
        {
            "cell_type": "markdown",
            "metadata": {
                "button": false,
                "new_sheet": false,
                "run_control": {
                    "read_only": false
                }
            },
            "source": "Let's define a function that defines our regression model for us so that we can conveniently call it to create our model.\n\n<body>\n  <font color=\"blue\";>\nUse the Keras library to build a neural network with the following:\n\n- One hidden layer of 10 nodes, and a ReLU activation function\n\n- Use the adam optimizer and the mean squared error  as the loss function.\n   </font>\n</body>\n"
        },
        {
            "cell_type": "code",
            "execution_count": 9,
            "metadata": {
                "button": false,
                "new_sheet": false,
                "run_control": {
                    "read_only": false
                }
            },
            "outputs": [],
            "source": "# define regression model\ndef regression_model():\n    # create model\n    model = Sequential()\n    model.add(Dense(10, activation='relu', input_shape=(n_cols,)))\n    model.add(Dense(1))\n    \n    # compile model\n    model.compile(optimizer='adam', loss='mean_squared_error')\n    return model"
        },
        {
            "cell_type": "markdown",
            "metadata": {},
            "source": "The above function create a model that has two hidden layers, each of 10 hidden units.\n"
        },
        {
            "cell_type": "markdown",
            "metadata": {},
            "source": "Let's call the function now to create our model.\n"
        },
        {
            "cell_type": "code",
            "execution_count": 10,
            "metadata": {
                "button": false,
                "new_sheet": false,
                "run_control": {
                    "read_only": false
                }
            },
            "outputs": [],
            "source": "# build the model\nmodel = regression_model()"
        },
        {
            "cell_type": "markdown",
            "metadata": {},
            "source": "Next, we will train and test the model at the same time using the _fit_ method. We will leave out 30% of the data for validation and we will train the model for 100 epochs.\n<body>\n  <font color=\"blue\";>\nUse the Keras library to build a neural network with the following:\n\n- One hidden layer of 10 nodes, and a ReLU activation function\n\n- Use the adam optimizer and the mean squared error  as the loss function.\n\n1. Randomly split the data into a training and test sets by holding 30% of the data for testing. You can use the train_test_splithelper function from Scikit-learn.\n\n2. Train the model on the training data using 50 epochs.\n\n3. Evaluate the model on the test data and compute the mean squared error between the predicted concrete strength and the actual concrete strength. You can use the mean_squared_error function from Scikit-learn.\n\n4. Repeat steps 1 - 3, 50 times, i.e., create a list of 50 mean squared errors.\n\n5. Report the mean and the standard deviation of the mean squared errors.\n      </font>\n</body>"
        },
        {
            "cell_type": "code",
            "execution_count": 11,
            "metadata": {},
            "outputs": [],
            "source": "x = predictors\ny = target\nX_train, X_test, y_train, y_test = train_test_split(x, y, test_size=0.3)\n\nmse_results=[]"
        },
        {
            "cell_type": "code",
            "execution_count": 12,
            "metadata": {},
            "outputs": [],
            "source": "for x in range(50):\n    model.fit(X_train, y_train, epochs=50, verbose=0) # fit the model\n    train_results = model.predict( X_test ) \n    mse_results.append( mean_squared_error(y_test, train_results) )"
        },
        {
            "cell_type": "code",
            "execution_count": 13,
            "metadata": {},
            "outputs": [
                {
                    "name": "stdout",
                    "output_type": "stream",
                    "text": "Mean of the list of mean square errors is  73.05709996438145\nStandard deviation of the list of mean square errors is  4.489408201577427\n"
                }
            ],
            "source": "print('Mean of the list of mean square errors is ',statistics.mean( mse_results ) )\nprint('Standard deviation of the list of mean square errors is ',statistics.stdev( mse_results ))"
        },
        {
            "cell_type": "markdown",
            "metadata": {
                "button": false,
                "new_sheet": false,
                "run_control": {
                    "read_only": false
                }
            },
            "source": "# Normalize the data\n"
        },
        {
            "cell_type": "markdown",
            "metadata": {},
            "source": "<body>\n  <font color=\"blue\";>\n    Repeat Part A but use a normalized version of the data. \n    Recall that one way to normalize the data is by subtracting the mean from the individual predictors and dividing by the standard deviation.\n  </font>\n</body>\n\n"
        },
        {
            "cell_type": "code",
            "execution_count": 14,
            "metadata": {},
            "outputs": [
                {
                    "name": "stdout",
                    "output_type": "stream",
                    "text": "Mean of the list of mean square errors is  0.1690174022999166\nStandard deviation of the list of mean square errors is  0.05722066703863508\n"
                }
            ],
            "source": "predictors_norm = (predictors - predictors.mean()) / predictors.std()\ntarget_norm = (target - target.mean()) / target.std()\nn_cols = predictors_norm.shape[1] # number of predictors\n\nx = predictors_norm\ny = target_norm\nX_train, X_test, y_train, y_test = train_test_split(x, y, test_size=0.3)\n\nmse_results=[]\n\nfor x in range(50):\n    model.fit(X_train, y_train, epochs=50, verbose=0) # fit the model\n    train_results = model.predict( X_test ) \n    mse_results.append( mean_squared_error(y_test, train_results) )\n\nprint('Mean of the list of mean square errors is ',statistics.mean( mse_results ) )\nprint('Standard deviation of the list of mean square errors is ',statistics.stdev( mse_results ))"
        },
        {
            "cell_type": "markdown",
            "metadata": {},
            "source": "<font color='green'> \n<p><b> How does the mean of the mean squared errors compare to that from Step A? \n<p><b> Both are lower.\n<p><b>  Lower st dev of MSE means model improvement\n</font>\n"
        },
        {
            "cell_type": "markdown",
            "metadata": {
                "button": false,
                "new_sheet": false,
                "run_control": {
                    "read_only": false
                }
            },
            "source": "# Increate the number of epochs \n"
        },
        {
            "cell_type": "markdown",
            "metadata": {},
            "source": "<body>\n  <font color=\"blue\";>Repeat Part B but use 100 epochs this time for training.  </font>\n</body>"
        },
        {
            "cell_type": "code",
            "execution_count": 15,
            "metadata": {},
            "outputs": [
                {
                    "name": "stdout",
                    "output_type": "stream",
                    "text": "Mean of the list of mean square errors is  0.15390516445997673\nStandard deviation of the list of mean square errors is  0.04302975982270089\n"
                }
            ],
            "source": "for x in range(50):\n    model.fit(X_train, y_train, epochs=100, verbose=0) # fit the model\n    train_results = model.predict( X_test ) \n    mse_results.append( mean_squared_error(y_test, train_results) )\n\nprint('Mean of the list of mean square errors is ',statistics.mean( mse_results ) )\nprint('Standard deviation of the list of mean square errors is ',statistics.stdev( mse_results ))"
        },
        {
            "cell_type": "markdown",
            "metadata": {},
            "source": "<font color='green'> \n<p><b> How does the mean of the mean squared errors compare to that from Step B? \n<p><b> Both are lower.\n<p><b>  Lower st dev of MSE means model improvement\n</font>\n"
        },
        {
            "cell_type": "markdown",
            "metadata": {
                "button": false,
                "new_sheet": false,
                "run_control": {
                    "read_only": false
                }
            },
            "source": "#  Increase the number of hidden layers \n"
        },
        {
            "cell_type": "markdown",
            "metadata": {},
            "source": "<body>\n  <font color=\"blue\";>\nIncrease the number of hidden layers \n\nRepeat part B but use a neural network with the following instead:\n\n- Three hidden layers, each of 10 nodes and ReLU activation function.</font>\n</body>"
        },
        {
            "cell_type": "code",
            "execution_count": 16,
            "metadata": {},
            "outputs": [
                {
                    "name": "stdout",
                    "output_type": "stream",
                    "text": "Mean of the list of mean square errors is  0.14642523300104685\nStandard deviation of the list of mean square errors is  0.012899622720405419\n"
                }
            ],
            "source": "# define regression model\ndef regression_three_layers_model():\n    # create model\n    model = Sequential()\n    model.add(Dense(10, activation='relu', input_shape=(n_cols,)))\n    model.add(Dense(10, activation='relu'))\n    model.add(Dense(10, activation='relu'))\n    model.add(Dense(1))\n    \n    # compile model\n    model.compile(optimizer='adam', loss='mean_squared_error')\n    return model\n\n# build the model\nmodel = regression_three_layers_model()\n\n\npredictors_norm = (predictors - predictors.mean()) / predictors.std()\ntarget_norm = (target - target.mean()) / target.std()\nn_cols = predictors_norm.shape[1] # number of predictors\n\nx = predictors_norm\ny = target_norm\nX_train, X_test, y_train, y_test = train_test_split(x, y, test_size=0.3)\n\nmse_results=[]\n\nfor x in range(50):\n    model.fit(X_train, y_train, epochs=50, verbose=0) # fit the model\n    train_results = model.predict( X_test ) \n    mse_results.append( mean_squared_error(y_test, train_results) )\n\nprint('Mean of the list of mean square errors is ',statistics.mean( mse_results ) )\nprint('Standard deviation of the list of mean square errors is ',statistics.stdev( mse_results ))"
        },
        {
            "cell_type": "markdown",
            "metadata": {},
            "source": "<font color='green'> \n<p><b> How does the mean of the mean squared errors compare to that from Step C? \n<p><b> Both are lower.\n<p><b>  Lower st dev of MSE means model improvement\n</font>\n"
        },
        {
            "cell_type": "code",
            "execution_count": null,
            "metadata": {},
            "outputs": [],
            "source": ""
        }
    ],
    "metadata": {
        "kernelspec": {
            "display_name": "Python 3.7",
            "language": "python",
            "name": "python3"
        },
        "language_info": {
            "codemirror_mode": {
                "name": "ipython",
                "version": 3
            },
            "file_extension": ".py",
            "mimetype": "text/x-python",
            "name": "python",
            "nbconvert_exporter": "python",
            "pygments_lexer": "ipython3",
            "version": "3.7.9"
        }
    },
    "nbformat": 4,
    "nbformat_minor": 4
}